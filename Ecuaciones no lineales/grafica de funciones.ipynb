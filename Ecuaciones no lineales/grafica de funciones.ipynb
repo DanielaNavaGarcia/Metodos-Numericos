{
 "cells": [
  {
   "cell_type": "code",
   "execution_count": null,
   "id": "68fbac49",
   "metadata": {},
   "outputs": [],
   "source": [
    "import matplotlib.pyplot as plt\n",
    "import numpy as np"
   ]
  },
  {
   "cell_type": "code",
   "execution_count": null,
   "id": "098ddd73",
   "metadata": {},
   "outputs": [],
   "source": [
    "# Función cuadrática.\n",
    "def f1(x):\n",
    "    return 10**x - x - 4"
   ]
  },
  {
   "cell_type": "code",
   "execution_count": null,
   "id": "b68bb6f2",
   "metadata": {},
   "outputs": [],
   "source": [
    "# Valores del eje X que toma el gráfico.\n",
    "x=np.linspace(0, 1, 10)"
   ]
  },
  {
   "cell_type": "code",
   "execution_count": null,
   "id": "52fb30d5",
   "metadata": {},
   "outputs": [],
   "source": [
    "# Graficar ambas funciones.\n",
    "plt.plot(x, [f1(i) for i in x])\n",
    "#plt.axhline(0, color=\"black\")\n",
    "#plt.axvline(0, color=\"black\")\n",
    "plt.xlim(0, 1)\n",
    "plt.ylim(-5, 5)\n",
    "#plt.savefig(\"output.png\") # Guardar gráfico como imágen PNG.\n",
    "# Mostrarlo.\n",
    "plt.show()"
   ]
  },
  {
   "cell_type": "markdown",
   "id": "df0c0da5",
   "metadata": {},
   "source": [
    "Ejercicio: Agregar título, color, retícula, rótulos a los ejes y aumentar el tamaño de la gráfica."
   ]
  },
  {
   "cell_type": "code",
   "execution_count": null,
   "id": "f22decd8",
   "metadata": {},
   "outputs": [],
   "source": []
  }
 ],
 "metadata": {
  "kernelspec": {
   "display_name": "Python 3 (ipykernel)",
   "language": "python",
   "name": "python3"
  },
  "language_info": {
   "codemirror_mode": {
    "name": "ipython",
    "version": 3
   },
   "file_extension": ".py",
   "mimetype": "text/x-python",
   "name": "python",
   "nbconvert_exporter": "python",
   "pygments_lexer": "ipython3",
   "version": "3.7.3"
  }
 },
 "nbformat": 4,
 "nbformat_minor": 5
}
